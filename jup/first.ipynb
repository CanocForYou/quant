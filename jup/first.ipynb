{
 "cells": [
  {
   "attachments": {},
   "cell_type": "markdown",
   "metadata": {},
   "source": [
    "# jupyter lab"
   ]
  },
  {
   "cell_type": "code",
   "execution_count": null,
   "metadata": {},
   "outputs": [],
   "source": [
    "from matplotlib import pyplot as plt\n",
    "import numpy as np\n",
    "\n",
    "# Generate 100 random data points along 3 dimensions\n",
    "x, y, scale = np.random.randn(3, 100)\n",
    "fig, ax = plt.subplots()\n",
    "\n",
    "# Map each onto a scatterplot we'll create with Matplotlib\n",
    "ax.scatter(x=x, y=y, c=scale, s=np.abs(scale)*500)\n",
    "ax.set(title=\"Some random data, created with JupyterLab!\")\n",
    "plt.show()"
   ]
  }
 ],
 "metadata": {
  "kernelspec": {
   "display_name": "ema-ysj65uAv-py3.9",
   "language": "python",
   "name": "python3"
  },
  "language_info": {
   "codemirror_mode": {
    "name": "ipython",
    "version": 3
   },
   "file_extension": ".py",
   "mimetype": "text/x-python",
   "name": "python",
   "nbconvert_exporter": "python",
   "pygments_lexer": "ipython3",
   "version": "3.9.6"
  },
  "orig_nbformat": 4,
  "vscode": {
   "interpreter": {
    "hash": "dde88a895fa8004be32e8980f2f52103306c1fdf91575a1f0b8eabe555f09dfa"
   }
  }
 },
 "nbformat": 4,
 "nbformat_minor": 2
}
